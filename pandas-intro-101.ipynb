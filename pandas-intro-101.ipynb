{
 "cells": [
  {
   "cell_type": "markdown",
   "metadata": {},
   "source": [
    "<h1>Email Spam Filters:</h1>"
   ]
  },
  {
   "cell_type": "markdown",
   "metadata": {},
   "source": [
    "10m - Business that uses Spam filters (15):\n",
    "Empresas de ventas masiva:\n",
    "\n",
    "Venta online:\n",
    "- Mediarkt. \n",
    "- Amazon.\n",
    "\n",
    "Empresa de diseño:\n",
    "- Imprimir 360.com\n",
    "\n",
    "Empresas de viajes:\n",
    "- Lastminute.\n",
    "\n",
    "Bolsas de empleo:\n",
    "- JobsDB.\n",
    "- Monster Jobs.\n",
    "\n",
    "\n",
    "Servicio de selección de Domains:\n",
    "- GoDaddy.com\n",
    "- Arsys.com\n",
    "\n",
    "Empresa de detección de phishing:\n",
    "- Spamtitanhq.com\n",
    "- Avast.com\n",
    "\n",
    "\n",
    "Choose business:\n",
    "\n",
    "Phishing business company:\n",
    "- Detectar las <b>variables</b> que determinen si el correo es phishing/spam o frudulento.\n",
    "    - Detectar: SPAM - Keywords. (Free, BitCoins, etc.)\n",
    "    - Analizar: Domain name - Email name.\n",
    "    - Detectar: Source / Location.\n",
    "    - Detectar: Caracteres extraños.\n",
    "    - Comparar: Asociación de la marca en uso con la original.\n",
    "    - Detectar: Unsubscribe button?\n",
    "    \n",
    "    \n",
    "Como se puede medir el éxito de nuestro caso.\n",
    "\n",
    "% Porcentaje de Fraudes detectados.\n",
    "    "
   ]
  },
  {
   "cell_type": "markdown",
   "metadata": {},
   "source": [
    "Machine Learning:"
   ]
  },
  {
   "cell_type": "markdown",
   "metadata": {},
   "source": [
    "- Supervizada: Clasificación.\n",
    "ML Task:\n",
    "    - % procentaje de phishing 'real' detectado.\n",
    "    - Creación de automatismo."
   ]
  },
  {
   "cell_type": "markdown",
   "metadata": {},
   "source": [
    "Value Proposition:"
   ]
  },
  {
   "cell_type": "code",
   "execution_count": null,
   "metadata": {},
   "outputs": [],
   "source": []
  },
  {
   "cell_type": "markdown",
   "metadata": {},
   "source": [
    "Data:"
   ]
  },
  {
   "cell_type": "code",
   "execution_count": 48,
   "metadata": {},
   "outputs": [],
   "source": [
    "import pandas as pd\n",
    "import matplotlib.pyplot as plt\n",
    "%matplotlib inline\n",
    "pd.set_option('display.max_columns', None)\n",
    "pd.set_option('display.width', None)"
   ]
  },
  {
   "cell_type": "code",
   "execution_count": 24,
   "metadata": {},
   "outputs": [],
   "source": [
    "ds = pd.read_csv('dataset.csv', sep=',', nrows=10000)"
   ]
  },
  {
   "cell_type": "markdown",
   "metadata": {},
   "source": [
    "- 1 means legitimate \n",
    "- 0 is suspicious \n",
    "- -1 is phishing"
   ]
  },
  {
   "cell_type": "code",
   "execution_count": 9,
   "metadata": {},
   "outputs": [
    {
     "data": {
      "text/plain": [
       "(10000, 1)"
      ]
     },
     "execution_count": 9,
     "metadata": {},
     "output_type": "execute_result"
    }
   ],
   "source": [
    "ds.shape"
   ]
  },
  {
   "cell_type": "code",
   "execution_count": 7,
   "metadata": {},
   "outputs": [
    {
     "data": {
      "text/plain": [
       "pandas.core.frame.DataFrame"
      ]
     },
     "execution_count": 7,
     "metadata": {},
     "output_type": "execute_result"
    }
   ],
   "source": [
    "type(ds)"
   ]
  },
  {
   "cell_type": "code",
   "execution_count": 14,
   "metadata": {},
   "outputs": [
    {
     "data": {
      "text/plain": [
       "['index',\n",
       " 'having_IPhaving_IP_Address',\n",
       " 'URLURL_Length',\n",
       " 'Shortining_Service',\n",
       " 'having_At_Symbol',\n",
       " 'double_slash_redirecting',\n",
       " 'Prefix_Suffix',\n",
       " 'having_Sub_Domain',\n",
       " 'SSLfinal_State',\n",
       " 'Domain_registeration_length',\n",
       " 'Favicon',\n",
       " 'port',\n",
       " 'HTTPS_token',\n",
       " 'Request_URL',\n",
       " 'URL_of_Anchor',\n",
       " 'Links_in_tags',\n",
       " 'SFH',\n",
       " 'Submitting_to_email',\n",
       " 'Abnormal_URL',\n",
       " 'Redirect',\n",
       " 'on_mouseover',\n",
       " 'RightClick',\n",
       " 'popUpWidnow',\n",
       " 'Iframe',\n",
       " 'age_of_domain',\n",
       " 'DNSRecord',\n",
       " 'web_traffic',\n",
       " 'Page_Rank',\n",
       " 'Google_Index',\n",
       " 'Links_pointing_to_page',\n",
       " 'Statistical_report',\n",
       " 'Result']"
      ]
     },
     "execution_count": 14,
     "metadata": {},
     "output_type": "execute_result"
    }
   ],
   "source": [
    "ds.columns.tolist()"
   ]
  },
  {
   "cell_type": "code",
   "execution_count": 15,
   "metadata": {},
   "outputs": [
    {
     "name": "stdout",
     "output_type": "stream",
     "text": [
      "<class 'pandas.core.frame.DataFrame'>\n",
      "RangeIndex: 10000 entries, 0 to 9999\n",
      "Data columns (total 32 columns):\n",
      "index                          10000 non-null int64\n",
      "having_IPhaving_IP_Address     10000 non-null int64\n",
      "URLURL_Length                  10000 non-null int64\n",
      "Shortining_Service             10000 non-null int64\n",
      "having_At_Symbol               10000 non-null int64\n",
      "double_slash_redirecting       10000 non-null int64\n",
      "Prefix_Suffix                  10000 non-null int64\n",
      "having_Sub_Domain              10000 non-null int64\n",
      "SSLfinal_State                 10000 non-null int64\n",
      "Domain_registeration_length    10000 non-null int64\n",
      "Favicon                        10000 non-null int64\n",
      "port                           10000 non-null int64\n",
      "HTTPS_token                    10000 non-null int64\n",
      "Request_URL                    10000 non-null int64\n",
      "URL_of_Anchor                  10000 non-null int64\n",
      "Links_in_tags                  10000 non-null int64\n",
      "SFH                            10000 non-null int64\n",
      "Submitting_to_email            10000 non-null int64\n",
      "Abnormal_URL                   10000 non-null int64\n",
      "Redirect                       10000 non-null int64\n",
      "on_mouseover                   10000 non-null int64\n",
      "RightClick                     10000 non-null int64\n",
      "popUpWidnow                    10000 non-null int64\n",
      "Iframe                         10000 non-null int64\n",
      "age_of_domain                  10000 non-null int64\n",
      "DNSRecord                      10000 non-null int64\n",
      "web_traffic                    10000 non-null int64\n",
      "Page_Rank                      10000 non-null int64\n",
      "Google_Index                   10000 non-null int64\n",
      "Links_pointing_to_page         10000 non-null int64\n",
      "Statistical_report             10000 non-null int64\n",
      "Result                         10000 non-null int64\n",
      "dtypes: int64(32)\n",
      "memory usage: 2.4 MB\n"
     ]
    }
   ],
   "source": [
    "ds.info()"
   ]
  },
  {
   "cell_type": "code",
   "execution_count": 16,
   "metadata": {},
   "outputs": [
    {
     "data": {
      "text/plain": [
       "index                          int64\n",
       "having_IPhaving_IP_Address     int64\n",
       "URLURL_Length                  int64\n",
       "Shortining_Service             int64\n",
       "having_At_Symbol               int64\n",
       "double_slash_redirecting       int64\n",
       "Prefix_Suffix                  int64\n",
       "having_Sub_Domain              int64\n",
       "SSLfinal_State                 int64\n",
       "Domain_registeration_length    int64\n",
       "Favicon                        int64\n",
       "port                           int64\n",
       "HTTPS_token                    int64\n",
       "Request_URL                    int64\n",
       "URL_of_Anchor                  int64\n",
       "Links_in_tags                  int64\n",
       "SFH                            int64\n",
       "Submitting_to_email            int64\n",
       "Abnormal_URL                   int64\n",
       "Redirect                       int64\n",
       "on_mouseover                   int64\n",
       "RightClick                     int64\n",
       "popUpWidnow                    int64\n",
       "Iframe                         int64\n",
       "age_of_domain                  int64\n",
       "DNSRecord                      int64\n",
       "web_traffic                    int64\n",
       "Page_Rank                      int64\n",
       "Google_Index                   int64\n",
       "Links_pointing_to_page         int64\n",
       "Statistical_report             int64\n",
       "Result                         int64\n",
       "dtype: object"
      ]
     },
     "execution_count": 16,
     "metadata": {},
     "output_type": "execute_result"
    }
   ],
   "source": [
    "ds.dtypes"
   ]
  },
  {
   "cell_type": "code",
   "execution_count": 17,
   "metadata": {},
   "outputs": [
    {
     "data": {
      "text/html": [
       "<div>\n",
       "<style scoped>\n",
       "    .dataframe tbody tr th:only-of-type {\n",
       "        vertical-align: middle;\n",
       "    }\n",
       "\n",
       "    .dataframe tbody tr th {\n",
       "        vertical-align: top;\n",
       "    }\n",
       "\n",
       "    .dataframe thead th {\n",
       "        text-align: right;\n",
       "    }\n",
       "</style>\n",
       "<table border=\"1\" class=\"dataframe\">\n",
       "  <thead>\n",
       "    <tr style=\"text-align: right;\">\n",
       "      <th></th>\n",
       "      <th>index</th>\n",
       "      <th>having_IPhaving_IP_Address</th>\n",
       "      <th>URLURL_Length</th>\n",
       "      <th>Shortining_Service</th>\n",
       "      <th>having_At_Symbol</th>\n",
       "      <th>double_slash_redirecting</th>\n",
       "      <th>Prefix_Suffix</th>\n",
       "      <th>having_Sub_Domain</th>\n",
       "      <th>SSLfinal_State</th>\n",
       "      <th>Domain_registeration_length</th>\n",
       "      <th>Favicon</th>\n",
       "      <th>port</th>\n",
       "      <th>HTTPS_token</th>\n",
       "      <th>Request_URL</th>\n",
       "      <th>URL_of_Anchor</th>\n",
       "      <th>Links_in_tags</th>\n",
       "      <th>SFH</th>\n",
       "      <th>Submitting_to_email</th>\n",
       "      <th>Abnormal_URL</th>\n",
       "      <th>Redirect</th>\n",
       "      <th>on_mouseover</th>\n",
       "      <th>RightClick</th>\n",
       "      <th>popUpWidnow</th>\n",
       "      <th>Iframe</th>\n",
       "      <th>age_of_domain</th>\n",
       "      <th>DNSRecord</th>\n",
       "      <th>web_traffic</th>\n",
       "      <th>Page_Rank</th>\n",
       "      <th>Google_Index</th>\n",
       "      <th>Links_pointing_to_page</th>\n",
       "      <th>Statistical_report</th>\n",
       "      <th>Result</th>\n",
       "    </tr>\n",
       "  </thead>\n",
       "  <tbody>\n",
       "    <tr>\n",
       "      <th>7376</th>\n",
       "      <td>7377</td>\n",
       "      <td>1</td>\n",
       "      <td>-1</td>\n",
       "      <td>1</td>\n",
       "      <td>1</td>\n",
       "      <td>1</td>\n",
       "      <td>-1</td>\n",
       "      <td>-1</td>\n",
       "      <td>-1</td>\n",
       "      <td>-1</td>\n",
       "      <td>1</td>\n",
       "      <td>1</td>\n",
       "      <td>1</td>\n",
       "      <td>1</td>\n",
       "      <td>0</td>\n",
       "      <td>0</td>\n",
       "      <td>-1</td>\n",
       "      <td>1</td>\n",
       "      <td>1</td>\n",
       "      <td>0</td>\n",
       "      <td>1</td>\n",
       "      <td>1</td>\n",
       "      <td>1</td>\n",
       "      <td>1</td>\n",
       "      <td>-1</td>\n",
       "      <td>1</td>\n",
       "      <td>1</td>\n",
       "      <td>-1</td>\n",
       "      <td>1</td>\n",
       "      <td>0</td>\n",
       "      <td>1</td>\n",
       "      <td>1</td>\n",
       "    </tr>\n",
       "    <tr>\n",
       "      <th>5396</th>\n",
       "      <td>5397</td>\n",
       "      <td>-1</td>\n",
       "      <td>-1</td>\n",
       "      <td>1</td>\n",
       "      <td>-1</td>\n",
       "      <td>1</td>\n",
       "      <td>-1</td>\n",
       "      <td>1</td>\n",
       "      <td>1</td>\n",
       "      <td>-1</td>\n",
       "      <td>-1</td>\n",
       "      <td>-1</td>\n",
       "      <td>1</td>\n",
       "      <td>1</td>\n",
       "      <td>0</td>\n",
       "      <td>-1</td>\n",
       "      <td>1</td>\n",
       "      <td>-1</td>\n",
       "      <td>1</td>\n",
       "      <td>0</td>\n",
       "      <td>1</td>\n",
       "      <td>-1</td>\n",
       "      <td>-1</td>\n",
       "      <td>-1</td>\n",
       "      <td>1</td>\n",
       "      <td>1</td>\n",
       "      <td>1</td>\n",
       "      <td>-1</td>\n",
       "      <td>1</td>\n",
       "      <td>1</td>\n",
       "      <td>1</td>\n",
       "      <td>1</td>\n",
       "    </tr>\n",
       "    <tr>\n",
       "      <th>4084</th>\n",
       "      <td>4085</td>\n",
       "      <td>1</td>\n",
       "      <td>-1</td>\n",
       "      <td>1</td>\n",
       "      <td>1</td>\n",
       "      <td>1</td>\n",
       "      <td>-1</td>\n",
       "      <td>1</td>\n",
       "      <td>1</td>\n",
       "      <td>-1</td>\n",
       "      <td>1</td>\n",
       "      <td>1</td>\n",
       "      <td>1</td>\n",
       "      <td>1</td>\n",
       "      <td>0</td>\n",
       "      <td>1</td>\n",
       "      <td>-1</td>\n",
       "      <td>1</td>\n",
       "      <td>1</td>\n",
       "      <td>0</td>\n",
       "      <td>1</td>\n",
       "      <td>1</td>\n",
       "      <td>1</td>\n",
       "      <td>1</td>\n",
       "      <td>1</td>\n",
       "      <td>1</td>\n",
       "      <td>0</td>\n",
       "      <td>-1</td>\n",
       "      <td>-1</td>\n",
       "      <td>0</td>\n",
       "      <td>1</td>\n",
       "      <td>-1</td>\n",
       "    </tr>\n",
       "    <tr>\n",
       "      <th>8966</th>\n",
       "      <td>8967</td>\n",
       "      <td>-1</td>\n",
       "      <td>-1</td>\n",
       "      <td>1</td>\n",
       "      <td>1</td>\n",
       "      <td>1</td>\n",
       "      <td>-1</td>\n",
       "      <td>-1</td>\n",
       "      <td>-1</td>\n",
       "      <td>1</td>\n",
       "      <td>1</td>\n",
       "      <td>1</td>\n",
       "      <td>-1</td>\n",
       "      <td>-1</td>\n",
       "      <td>-1</td>\n",
       "      <td>-1</td>\n",
       "      <td>-1</td>\n",
       "      <td>1</td>\n",
       "      <td>1</td>\n",
       "      <td>0</td>\n",
       "      <td>1</td>\n",
       "      <td>1</td>\n",
       "      <td>1</td>\n",
       "      <td>1</td>\n",
       "      <td>1</td>\n",
       "      <td>1</td>\n",
       "      <td>1</td>\n",
       "      <td>-1</td>\n",
       "      <td>1</td>\n",
       "      <td>1</td>\n",
       "      <td>1</td>\n",
       "      <td>-1</td>\n",
       "    </tr>\n",
       "    <tr>\n",
       "      <th>512</th>\n",
       "      <td>513</td>\n",
       "      <td>1</td>\n",
       "      <td>-1</td>\n",
       "      <td>1</td>\n",
       "      <td>1</td>\n",
       "      <td>1</td>\n",
       "      <td>-1</td>\n",
       "      <td>-1</td>\n",
       "      <td>-1</td>\n",
       "      <td>-1</td>\n",
       "      <td>1</td>\n",
       "      <td>1</td>\n",
       "      <td>1</td>\n",
       "      <td>-1</td>\n",
       "      <td>0</td>\n",
       "      <td>0</td>\n",
       "      <td>-1</td>\n",
       "      <td>1</td>\n",
       "      <td>1</td>\n",
       "      <td>0</td>\n",
       "      <td>1</td>\n",
       "      <td>1</td>\n",
       "      <td>1</td>\n",
       "      <td>1</td>\n",
       "      <td>-1</td>\n",
       "      <td>-1</td>\n",
       "      <td>0</td>\n",
       "      <td>-1</td>\n",
       "      <td>1</td>\n",
       "      <td>0</td>\n",
       "      <td>1</td>\n",
       "      <td>-1</td>\n",
       "    </tr>\n",
       "  </tbody>\n",
       "</table>\n",
       "</div>"
      ],
      "text/plain": [
       "      index  having_IPhaving_IP_Address  URLURL_Length  Shortining_Service  \\\n",
       "7376   7377                           1             -1                   1   \n",
       "5396   5397                          -1             -1                   1   \n",
       "4084   4085                           1             -1                   1   \n",
       "8966   8967                          -1             -1                   1   \n",
       "512     513                           1             -1                   1   \n",
       "\n",
       "      having_At_Symbol  double_slash_redirecting  Prefix_Suffix  \\\n",
       "7376                 1                         1             -1   \n",
       "5396                -1                         1             -1   \n",
       "4084                 1                         1             -1   \n",
       "8966                 1                         1             -1   \n",
       "512                  1                         1             -1   \n",
       "\n",
       "      having_Sub_Domain  SSLfinal_State  Domain_registeration_length  Favicon  \\\n",
       "7376                 -1              -1                           -1        1   \n",
       "5396                  1               1                           -1       -1   \n",
       "4084                  1               1                           -1        1   \n",
       "8966                 -1              -1                            1        1   \n",
       "512                  -1              -1                           -1        1   \n",
       "\n",
       "      port  HTTPS_token  Request_URL  URL_of_Anchor  Links_in_tags  SFH  \\\n",
       "7376     1            1            1              0              0   -1   \n",
       "5396    -1            1            1              0             -1    1   \n",
       "4084     1            1            1              0              1   -1   \n",
       "8966     1           -1           -1             -1             -1   -1   \n",
       "512      1            1           -1              0              0   -1   \n",
       "\n",
       "      Submitting_to_email  Abnormal_URL  Redirect  on_mouseover  RightClick  \\\n",
       "7376                    1             1         0             1           1   \n",
       "5396                   -1             1         0             1          -1   \n",
       "4084                    1             1         0             1           1   \n",
       "8966                    1             1         0             1           1   \n",
       "512                     1             1         0             1           1   \n",
       "\n",
       "      popUpWidnow  Iframe  age_of_domain  DNSRecord  web_traffic  Page_Rank  \\\n",
       "7376            1       1             -1          1            1         -1   \n",
       "5396           -1      -1              1          1            1         -1   \n",
       "4084            1       1              1          1            0         -1   \n",
       "8966            1       1              1          1            1         -1   \n",
       "512             1       1             -1         -1            0         -1   \n",
       "\n",
       "      Google_Index  Links_pointing_to_page  Statistical_report  Result  \n",
       "7376             1                       0                   1       1  \n",
       "5396             1                       1                   1       1  \n",
       "4084            -1                       0                   1      -1  \n",
       "8966             1                       1                   1      -1  \n",
       "512              1                       0                   1      -1  "
      ]
     },
     "execution_count": 17,
     "metadata": {},
     "output_type": "execute_result"
    }
   ],
   "source": [
    "ds.sample(5)"
   ]
  },
  {
   "cell_type": "code",
   "execution_count": 57,
   "metadata": {},
   "outputs": [],
   "source": [
    "emails = pd.read_csv('./ml-email-clustering-master/split_emails.csv', nrows=10000)"
   ]
  },
  {
   "cell_type": "code",
   "execution_count": 59,
   "metadata": {},
   "outputs": [
    {
     "name": "stdout",
     "output_type": "stream",
     "text": [
      "(10000, 3)\n"
     ]
    }
   ],
   "source": [
    "print(emails.shape)"
   ]
  },
  {
   "cell_type": "code",
   "execution_count": 63,
   "metadata": {},
   "outputs": [
    {
     "data": {
      "text/plain": [
       "Index(['Unnamed: 0', 'file', 'message'], dtype='object')"
      ]
     },
     "execution_count": 63,
     "metadata": {},
     "output_type": "execute_result"
    }
   ],
   "source": [
    "emails.columns"
   ]
  },
  {
   "cell_type": "code",
   "execution_count": 62,
   "metadata": {
    "scrolled": true
   },
   "outputs": [
    {
     "data": {
      "text/html": [
       "<div>\n",
       "<style scoped>\n",
       "    .dataframe tbody tr th:only-of-type {\n",
       "        vertical-align: middle;\n",
       "    }\n",
       "\n",
       "    .dataframe tbody tr th {\n",
       "        vertical-align: top;\n",
       "    }\n",
       "\n",
       "    .dataframe thead th {\n",
       "        text-align: right;\n",
       "    }\n",
       "</style>\n",
       "<table border=\"1\" class=\"dataframe\">\n",
       "  <thead>\n",
       "    <tr style=\"text-align: right;\">\n",
       "      <th></th>\n",
       "      <th>Unnamed: 0</th>\n",
       "      <th>file</th>\n",
       "      <th>message</th>\n",
       "    </tr>\n",
       "  </thead>\n",
       "  <tbody>\n",
       "    <tr>\n",
       "      <th>803</th>\n",
       "      <td>803</td>\n",
       "      <td>allen-p/all_documents/283.</td>\n",
       "      <td>Message-ID: &lt;15208182.1075855671670.JavaMail.e...</td>\n",
       "    </tr>\n",
       "    <tr>\n",
       "      <th>6767</th>\n",
       "      <td>6767</td>\n",
       "      <td>arnold-j/sent_items/472.</td>\n",
       "      <td>Message-ID: &lt;26158141.1075852723703.JavaMail.e...</td>\n",
       "    </tr>\n",
       "    <tr>\n",
       "      <th>6674</th>\n",
       "      <td>6674</td>\n",
       "      <td>arnold-j/sent_items/388.</td>\n",
       "      <td>Message-ID: &lt;10689737.1075852721242.JavaMail.e...</td>\n",
       "    </tr>\n",
       "    <tr>\n",
       "      <th>7112</th>\n",
       "      <td>7112</td>\n",
       "      <td>arnold-j/sent/122.</td>\n",
       "      <td>Message-ID: &lt;15457617.1075857588286.JavaMail.e...</td>\n",
       "    </tr>\n",
       "    <tr>\n",
       "      <th>7520</th>\n",
       "      <td>7520</td>\n",
       "      <td>arnold-j/sent/492.</td>\n",
       "      <td>Message-ID: &lt;9393144.1075857634076.JavaMail.ev...</td>\n",
       "    </tr>\n",
       "    <tr>\n",
       "      <th>39</th>\n",
       "      <td>39</td>\n",
       "      <td>allen-p/_sent_mail/13.</td>\n",
       "      <td>Message-ID: &lt;32300323.1075855378519.JavaMail.e...</td>\n",
       "    </tr>\n",
       "    <tr>\n",
       "      <th>9498</th>\n",
       "      <td>9498</td>\n",
       "      <td>bailey-s/deleted_items/116.</td>\n",
       "      <td>Message-ID: &lt;32139253.1075861105040.JavaMail.e...</td>\n",
       "    </tr>\n",
       "    <tr>\n",
       "      <th>1254</th>\n",
       "      <td>1254</td>\n",
       "      <td>allen-p/deleted_items/12.</td>\n",
       "      <td>Message-ID: &lt;20180566.1075855374772.JavaMail.e...</td>\n",
       "    </tr>\n",
       "    <tr>\n",
       "      <th>9910</th>\n",
       "      <td>9910</td>\n",
       "      <td>bailey-s/deleted_items/97.</td>\n",
       "      <td>Message-ID: &lt;5564528.1075861104591.JavaMail.ev...</td>\n",
       "    </tr>\n",
       "    <tr>\n",
       "      <th>5237</th>\n",
       "      <td>5237</td>\n",
       "      <td>arnold-j/deleted_items/358.</td>\n",
       "      <td>Message-ID: &lt;9702868.1075852700269.JavaMail.ev...</td>\n",
       "    </tr>\n",
       "  </tbody>\n",
       "</table>\n",
       "</div>"
      ],
      "text/plain": [
       "      Unnamed: 0                         file  \\\n",
       "803          803   allen-p/all_documents/283.   \n",
       "6767        6767     arnold-j/sent_items/472.   \n",
       "6674        6674     arnold-j/sent_items/388.   \n",
       "7112        7112           arnold-j/sent/122.   \n",
       "7520        7520           arnold-j/sent/492.   \n",
       "39            39       allen-p/_sent_mail/13.   \n",
       "9498        9498  bailey-s/deleted_items/116.   \n",
       "1254        1254    allen-p/deleted_items/12.   \n",
       "9910        9910   bailey-s/deleted_items/97.   \n",
       "5237        5237  arnold-j/deleted_items/358.   \n",
       "\n",
       "                                                message  \n",
       "803   Message-ID: <15208182.1075855671670.JavaMail.e...  \n",
       "6767  Message-ID: <26158141.1075852723703.JavaMail.e...  \n",
       "6674  Message-ID: <10689737.1075852721242.JavaMail.e...  \n",
       "7112  Message-ID: <15457617.1075857588286.JavaMail.e...  \n",
       "7520  Message-ID: <9393144.1075857634076.JavaMail.ev...  \n",
       "39    Message-ID: <32300323.1075855378519.JavaMail.e...  \n",
       "9498  Message-ID: <32139253.1075861105040.JavaMail.e...  \n",
       "1254  Message-ID: <20180566.1075855374772.JavaMail.e...  \n",
       "9910  Message-ID: <5564528.1075861104591.JavaMail.ev...  \n",
       "5237  Message-ID: <9702868.1075852700269.JavaMail.ev...  "
      ]
     },
     "execution_count": 62,
     "metadata": {},
     "output_type": "execute_result"
    }
   ],
   "source": [
    "emails.sample(10)"
   ]
  },
  {
   "cell_type": "code",
   "execution_count": 65,
   "metadata": {},
   "outputs": [],
   "source": [
    "def parse_raw_message(raw_message):\n",
    "    lines = raw_message.split('\\n')\n",
    "    email = {}\n",
    "    message = ''\n",
    "    keys_to_extract = ['from', 'to']\n",
    "    for line in lines:\n",
    "        if ':' not in line:\n",
    "            message += line.strip()\n",
    "            email['body'] = message\n",
    "        else:\n",
    "            pairs = line.split(':')\n",
    "            key = pairs[0].lower()\n",
    "            val = pairs[1].strip()\n",
    "            if key in keys_to_extract:\n",
    "                email[key] = val\n",
    "    return email\n",
    "def parse_into_emails(messages):\n",
    "    emails = [parse_raw_message(message) for message in messages]\n",
    "    return {\n",
    "        'body': map_to_list(emails, 'body'), \n",
    "        'to': map_to_list(emails, 'to'), \n",
    "        'from_': map_to_list(emails, 'from')\n",
    "    }"
   ]
  },
  {
   "cell_type": "code",
   "execution_count": 66,
   "metadata": {},
   "outputs": [
    {
     "ename": "NameError",
     "evalue": "name 'map_to_list' is not defined",
     "output_type": "error",
     "traceback": [
      "\u001b[0;31m---------------------------------------------------------------------------\u001b[0m",
      "\u001b[0;31mNameError\u001b[0m                                 Traceback (most recent call last)",
      "\u001b[0;32m<ipython-input-66-df1de00c07ed>\u001b[0m in \u001b[0;36m<module>\u001b[0;34m\u001b[0m\n\u001b[0;32m----> 1\u001b[0;31m \u001b[0memail_df\u001b[0m \u001b[0;34m=\u001b[0m \u001b[0mpd\u001b[0m\u001b[0;34m.\u001b[0m\u001b[0mDataFrame\u001b[0m\u001b[0;34m(\u001b[0m\u001b[0mparse_into_emails\u001b[0m\u001b[0;34m(\u001b[0m\u001b[0memails\u001b[0m\u001b[0;34m.\u001b[0m\u001b[0mmessage\u001b[0m\u001b[0;34m)\u001b[0m\u001b[0;34m)\u001b[0m\u001b[0;34m\u001b[0m\u001b[0;34m\u001b[0m\u001b[0m\n\u001b[0m",
      "\u001b[0;32m<ipython-input-65-e5e5c7bb2b5c>\u001b[0m in \u001b[0;36mparse_into_emails\u001b[0;34m(messages)\u001b[0m\n\u001b[1;32m     18\u001b[0m     \u001b[0memails\u001b[0m \u001b[0;34m=\u001b[0m \u001b[0;34m[\u001b[0m\u001b[0mparse_raw_message\u001b[0m\u001b[0;34m(\u001b[0m\u001b[0mmessage\u001b[0m\u001b[0;34m)\u001b[0m \u001b[0;32mfor\u001b[0m \u001b[0mmessage\u001b[0m \u001b[0;32min\u001b[0m \u001b[0mmessages\u001b[0m\u001b[0;34m]\u001b[0m\u001b[0;34m\u001b[0m\u001b[0;34m\u001b[0m\u001b[0m\n\u001b[1;32m     19\u001b[0m     return {\n\u001b[0;32m---> 20\u001b[0;31m         \u001b[0;34m'body'\u001b[0m\u001b[0;34m:\u001b[0m \u001b[0mmap_to_list\u001b[0m\u001b[0;34m(\u001b[0m\u001b[0memails\u001b[0m\u001b[0;34m,\u001b[0m \u001b[0;34m'body'\u001b[0m\u001b[0;34m)\u001b[0m\u001b[0;34m,\u001b[0m\u001b[0;34m\u001b[0m\u001b[0;34m\u001b[0m\u001b[0m\n\u001b[0m\u001b[1;32m     21\u001b[0m         \u001b[0;34m'to'\u001b[0m\u001b[0;34m:\u001b[0m \u001b[0mmap_to_list\u001b[0m\u001b[0;34m(\u001b[0m\u001b[0memails\u001b[0m\u001b[0;34m,\u001b[0m \u001b[0;34m'to'\u001b[0m\u001b[0;34m)\u001b[0m\u001b[0;34m,\u001b[0m\u001b[0;34m\u001b[0m\u001b[0;34m\u001b[0m\u001b[0m\n\u001b[1;32m     22\u001b[0m         \u001b[0;34m'from_'\u001b[0m\u001b[0;34m:\u001b[0m \u001b[0mmap_to_list\u001b[0m\u001b[0;34m(\u001b[0m\u001b[0memails\u001b[0m\u001b[0;34m,\u001b[0m \u001b[0;34m'from'\u001b[0m\u001b[0;34m)\u001b[0m\u001b[0;34m\u001b[0m\u001b[0;34m\u001b[0m\u001b[0m\n",
      "\u001b[0;31mNameError\u001b[0m: name 'map_to_list' is not defined"
     ]
    }
   ],
   "source": [
    "email_df = pd.DataFrame(parse_into_emails(emails.message))"
   ]
  }
 ],
 "metadata": {
  "kernelspec": {
   "display_name": "Python 3",
   "language": "python",
   "name": "python3"
  },
  "language_info": {
   "codemirror_mode": {
    "name": "ipython",
    "version": 3
   },
   "file_extension": ".py",
   "mimetype": "text/x-python",
   "name": "python",
   "nbconvert_exporter": "python",
   "pygments_lexer": "ipython3",
   "version": "3.7.3"
  }
 },
 "nbformat": 4,
 "nbformat_minor": 2
}
